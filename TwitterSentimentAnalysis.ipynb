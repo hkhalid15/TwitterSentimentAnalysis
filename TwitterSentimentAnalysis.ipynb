{
 "cells": [
  {
   "cell_type": "code",
   "execution_count": 1,
   "metadata": {},
   "outputs": [],
   "source": [
    "#Dependencies\n",
    "import os\n",
    "import tweepy\n",
    "import numpy as np\n",
    "import pandas as pd\n",
    "from textblob import TextBlob\n",
    "from datetime import datetime\n",
    "import matplotlib.pyplot as plt\n",
    "from matplotlib import style\n",
    "style.use('fivethirtyeight')"
   ]
  },
  {
   "cell_type": "code",
   "execution_count": 2,
   "metadata": {},
   "outputs": [],
   "source": [
    "#Import and Initialize Sentiment Analyzer\n",
    "from vaderSentiment.vaderSentiment import SentimentIntensityAnalyzer\n",
    "analyzer = SentimentIntensityAnalyzer()"
   ]
  },
  {
   "cell_type": "code",
   "execution_count": 3,
   "metadata": {},
   "outputs": [
    {
     "data": {
      "text/plain": [
       "True"
      ]
     },
     "execution_count": 3,
     "metadata": {},
     "output_type": "execute_result"
    }
   ],
   "source": [
    "#from config import (consumer_key, consumer_secret, access_token, access_token_secret)\n",
    "#load the dotenv\n",
    "from dotenv import load_dotenv\n",
    "\n",
    "#take the environment variables from .env\n",
    "load_dotenv()"
   ]
  },
  {
   "cell_type": "code",
   "execution_count": 4,
   "metadata": {},
   "outputs": [],
   "source": [
    "#API Keys for Twitter\n",
    "consumer_key = os.getenv(\"twitter_consumer_key\")\n",
    "consumer_secret = os.getenv(\"twitter_consumer_secret\")\n",
    "\n",
    "access_token = os.getenv(\"twitter_access_token\")\n",
    "access_token_secret = os.getenv(\"twitter_access_token_secret\")"
   ]
  },
  {
   "cell_type": "code",
   "execution_count": 5,
   "metadata": {},
   "outputs": [],
   "source": [
    "#Setup Tweepy API Authentication\n",
    "auth = tweepy.OAuthHandler(consumer_key, consumer_secret)\n",
    "auth.set_access_token(access_token, access_token_secret)"
   ]
  },
  {
   "cell_type": "code",
   "execution_count": 6,
   "metadata": {},
   "outputs": [],
   "source": [
    "api = tweepy.API(auth, parser=tweepy.parsers.JSONParser())"
   ]
  },
  {
   "cell_type": "code",
   "execution_count": 7,
   "metadata": {},
   "outputs": [
    {
     "name": "stderr",
     "output_type": "stream",
     "text": [
      "Unexpected parameter: news_accounts\n",
      "Unexpected parameter: news_accounts\n",
      "Unexpected parameter: news_accounts\n",
      "Unexpected parameter: news_accounts\n",
      "Unexpected parameter: news_accounts\n"
     ]
    }
   ],
   "source": [
    "#News Accounts\n",
    "news_accounts = (\"@BBCNews\", \"@CBSNews\", \"@CNN\", \"@FoxNews\", \"@nytimes\")\n",
    "\n",
    "#Create the Counter and variable to hold the gathered sentiments\n",
    "counter = 1\n",
    "senti = []\n",
    "\n",
    "#Variable for max_id\n",
    "#oldest_tweet = None\n",
    "\n",
    "#Loop through 5 pages of tweets (total 100 tweets)\n",
    "for x in range(5):\n",
    "\n",
    "    #Get all tweets from feed\n",
    "    #public_tweets = api.user_timeline(news_accounts, max_id = oldest_tweet)\n",
    "    public_tweets = api.user_timeline(news_accounts=news_accounts)\n",
    "\n",
    "    #Loop through all tweets \n",
    "    for tweet in public_tweets:\n",
    "\n",
    "        #Print Tweets\n",
    "        #print(\"Tweet %s: %s\" % (counter, tweet[\"text\"]))\n",
    "        #print(tweet.text)\n",
    "        \n",
    "        #Run Vader Analysis on each tweet\n",
    "        results = analyzer.polarity_scores(tweet[\"text\"])\n",
    "        compound = results[\"compound\"]\n",
    "        pos = results[\"pos\"]\n",
    "        neu = results[\"neu\"]\n",
    "        neg = results[\"neg\"]\n",
    "        tweets_ago = counter\n",
    "        \n",
    "        #Get Tweet ID, subtract 1, and assign to oldest_tweet\n",
    "        oldest_tweet = tweet['id'] - 1\n",
    "        \n",
    "        #Add sentiments for each tweet into a list\n",
    "        senti.append({\"Date\": tweet[\"created_at\"], \n",
    "                           \"Compound\": compound,\n",
    "                           \"Positive\": pos,\n",
    "                           \"Negative\": neg,\n",
    "                           \"Neutral\": neu,\n",
    "                           \"Tweets Ago\": counter})\n",
    "        #Add to counter \n",
    "        counter += 1"
   ]
  },
  {
   "cell_type": "code",
   "execution_count": 8,
   "metadata": {},
   "outputs": [
    {
     "data": {
      "text/html": [
       "<div>\n",
       "<style scoped>\n",
       "    .dataframe tbody tr th:only-of-type {\n",
       "        vertical-align: middle;\n",
       "    }\n",
       "\n",
       "    .dataframe tbody tr th {\n",
       "        vertical-align: top;\n",
       "    }\n",
       "\n",
       "    .dataframe thead th {\n",
       "        text-align: right;\n",
       "    }\n",
       "</style>\n",
       "<table border=\"1\" class=\"dataframe\">\n",
       "  <thead>\n",
       "    <tr style=\"text-align: right;\">\n",
       "      <th></th>\n",
       "      <th>Compound</th>\n",
       "      <th>Date</th>\n",
       "      <th>Negative</th>\n",
       "      <th>Neutral</th>\n",
       "      <th>Positive</th>\n",
       "      <th>Tweets Ago</th>\n",
       "    </tr>\n",
       "  </thead>\n",
       "  <tbody>\n",
       "    <tr>\n",
       "      <th>0</th>\n",
       "      <td>0.0</td>\n",
       "      <td>Thu Mar 29 23:22:08 +0000 2018</td>\n",
       "      <td>0.0</td>\n",
       "      <td>1.0</td>\n",
       "      <td>0.0</td>\n",
       "      <td>1</td>\n",
       "    </tr>\n",
       "    <tr>\n",
       "      <th>1</th>\n",
       "      <td>0.0</td>\n",
       "      <td>Thu Mar 29 23:22:08 +0000 2018</td>\n",
       "      <td>0.0</td>\n",
       "      <td>1.0</td>\n",
       "      <td>0.0</td>\n",
       "      <td>2</td>\n",
       "    </tr>\n",
       "    <tr>\n",
       "      <th>2</th>\n",
       "      <td>0.0</td>\n",
       "      <td>Thu Mar 29 23:22:08 +0000 2018</td>\n",
       "      <td>0.0</td>\n",
       "      <td>1.0</td>\n",
       "      <td>0.0</td>\n",
       "      <td>3</td>\n",
       "    </tr>\n",
       "    <tr>\n",
       "      <th>3</th>\n",
       "      <td>0.0</td>\n",
       "      <td>Thu Mar 29 23:22:08 +0000 2018</td>\n",
       "      <td>0.0</td>\n",
       "      <td>1.0</td>\n",
       "      <td>0.0</td>\n",
       "      <td>4</td>\n",
       "    </tr>\n",
       "    <tr>\n",
       "      <th>4</th>\n",
       "      <td>0.0</td>\n",
       "      <td>Thu Mar 29 23:22:08 +0000 2018</td>\n",
       "      <td>0.0</td>\n",
       "      <td>1.0</td>\n",
       "      <td>0.0</td>\n",
       "      <td>5</td>\n",
       "    </tr>\n",
       "  </tbody>\n",
       "</table>\n",
       "</div>"
      ],
      "text/plain": [
       "   Compound                            Date  Negative  Neutral  Positive  \\\n",
       "0       0.0  Thu Mar 29 23:22:08 +0000 2018       0.0      1.0       0.0   \n",
       "1       0.0  Thu Mar 29 23:22:08 +0000 2018       0.0      1.0       0.0   \n",
       "2       0.0  Thu Mar 29 23:22:08 +0000 2018       0.0      1.0       0.0   \n",
       "3       0.0  Thu Mar 29 23:22:08 +0000 2018       0.0      1.0       0.0   \n",
       "4       0.0  Thu Mar 29 23:22:08 +0000 2018       0.0      1.0       0.0   \n",
       "\n",
       "   Tweets Ago  \n",
       "0           1  \n",
       "1           2  \n",
       "2           3  \n",
       "3           4  \n",
       "4           5  "
      ]
     },
     "execution_count": 8,
     "metadata": {},
     "output_type": "execute_result"
    }
   ],
   "source": [
    "#Convert sentiments to DataFrame\n",
    "senti_pd = pd.DataFrame.from_dict(senti)\n",
    "senti_pd.head()"
   ]
  },
  {
   "cell_type": "code",
   "execution_count": 9,
   "metadata": {},
   "outputs": [
    {
     "data": {
      "text/plain": [
       "0.0"
      ]
     },
     "execution_count": 9,
     "metadata": {},
     "output_type": "execute_result"
    }
   ],
   "source": [
    "senti_pd['Compound'].mean()"
   ]
  },
  {
   "cell_type": "code",
   "execution_count": 10,
   "metadata": {},
   "outputs": [
    {
     "data": {
      "image/png": "[encoded data removed]",
      "text/plain": [
       "<Figure size 432x288 with 1 Axes>"
      ]
     },
     "metadata": {},
     "output_type": "display_data"
    }
   ],
   "source": [
    "#Create plot\n",
    "x_vals = senti_pd[\"Tweets Ago\"]\n",
    "y_vals = senti_pd[\"Compound\"]\n",
    "plt.plot(x_vals,\n",
    "         y_vals, marker=\"o\", \n",
    "         linewidth=0.5,\n",
    "         alpha=0.5)\n",
    "\n",
    "#Incorporate the other graph properties\n",
    "now = datetime.now()\n",
    "now = now.strftime(\"%Y-%m-%d %H:%M\")\n",
    "plt.title(f\"Tweet Sentiment Analysis on ({now}) from {news_accounts}\")\n",
    "plt.xlim([x_vals.max(),x_vals.min()])\n",
    "plt.ylabel(\"Tweet Polarity\")\n",
    "plt.xlabel(\"Tweets Ago\")\n",
    "plt.show()"
   ]
  },
  {
   "cell_type": "code",
   "execution_count": null,
   "metadata": {},
   "outputs": [],
   "source": []
  }
 ],
 "metadata": {
  "kernelspec": {
   "display_name": "Python 3",
   "language": "python",
   "name": "python3"
  },
  "language_info": {
   "codemirror_mode": {
    "name": "ipython",
    "version": 3
   },
   "file_extension": ".py",
   "mimetype": "text/x-python",
   "name": "python",
   "nbconvert_exporter": "python",
   "pygments_lexer": "ipython3",
   "version": "3.6.5"
  }
 },
 "nbformat": 4,
 "nbformat_minor": 2
}
